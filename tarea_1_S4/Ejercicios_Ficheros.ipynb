{
 "cells": [
  {
   "cell_type": "markdown",
   "metadata": {
    "id": "fb-ysZHW9FJe"
   },
   "source": [
    "## **S4 Ejercicios: Ficheros**"
   ]
  },
  {
   "cell_type": "markdown",
   "metadata": {
    "id": "g69vJjNU9Sqr"
   },
   "source": [
    "# Ejercicio 1"
   ]
  },
  {
   "cell_type": "markdown",
   "metadata": {
    "id": "lsr9OJW0VKTD"
   },
   "source": [
    "Escribir una función que pida un número entero entre 1 y 10, lea el fichero tabla-n.txt con la tabla de multiplicar de ese número, donde n es el número introducido, y la muestre por pantalla. Si el fichero no existe debe mostrar un mensaje por pantalla informando de ello."
   ]
  },
  {
   "cell_type": "code",
   "execution_count": 22,
   "metadata": {
    "id": "h2oS_5m2U4VP"
   },
   "outputs": [],
   "source": [
    "def readFile(path: str) -> list:\n",
    "    f = open(path)\n",
    "    data = f.readlines()\n",
    "    f.close()\n",
    "    return data\n",
    "\n",
    "\n",
    "def processFile(file: list) -> None:\n",
    "    for row in file:\n",
    "        print(row)\n",
    "    \n",
    "\n",
    "def process() -> None: \n",
    "    \n",
    "    while True:\n",
    "        number = int(input(\"Ingrese un número entero entre 1 y 10: \"))\n",
    "        \n",
    "        if number > 0 and number <= 10:\n",
    "            break\n",
    "        \n",
    "    name = f\"tabla-{number}.txt\"\n",
    "    path = f\"dataset/Tabla_1-10/{name}\"\n",
    "    processFile(readFile(path))"
   ]
  },
  {
   "cell_type": "code",
   "execution_count": 23,
   "metadata": {},
   "outputs": [
    {
     "name": "stdout",
     "output_type": "stream",
     "text": [
      "Ingrese un número entero entre 1 y 10: 11\n",
      "Ingrese un número entero entre 1 y 10: 10\n",
      "10 x 1 = 10\n",
      "\n",
      "10 x 2 = 20\n",
      "\n",
      "10 x 3 = 30\n",
      "\n",
      "10 x 4 = 40\n",
      "\n",
      "10 x 5 = 50\n",
      "\n",
      "10 x 6 = 60\n",
      "\n",
      "10 x 7 = 70\n",
      "\n",
      "10 x 8 = 80\n",
      "\n",
      "10 x 9 = 90\n",
      "\n",
      "10 x 10 = 100\n"
     ]
    }
   ],
   "source": [
    "if __name__ == \"__main__\":\n",
    "    process()"
   ]
  },
  {
   "cell_type": "markdown",
   "metadata": {
    "id": "fUb2FEH29V7D"
   },
   "source": [
    "# Ejercicio 2"
   ]
  },
  {
   "cell_type": "markdown",
   "metadata": {
    "id": "NM_IyjU2VMnT"
   },
   "source": [
    "Escribir un programa para gestionar un listín telefónico con los nombres y los teléfonos de los clientes de una empresa. \n",
    "El programa incorporará las siguientes funciones: Crear el fichero con el listín si no existe, consultar el teléfono de un cliente, añadir el teléfono de un nuevo cliente y eliminar el teléfono de un cliente. El listín debe estar guardado en el fichero de texto listin.txt donde el nombre del cliente y su teléfono deben aparecer separados por comas y cada cliente en una línea distinta.\n",
    "\n"
   ]
  },
  {
   "cell_type": "code",
   "execution_count": 26,
   "metadata": {
    "id": "WjWZADyrVM6d"
   },
   "outputs": [],
   "source": [
    "import os\n",
    "\n",
    "class Client:\n",
    "    \"\"\"\n",
    "        Clase client que contiene conjunto de características correspondiente a los clientes\n",
    "    \"\"\"\n",
    "    def __init__(self, name:str, phoneNumber:str, fm) -> None:\n",
    "        self.name = name\n",
    "        self.phoneNumber = phoneNumber\n",
    "        self.fm = fm \n",
    "    \n",
    "    def add_client(self):\n",
    "        f = fm.create_line(self.name, self.phoneNumber)\n",
    "        \n",
    "    def find_phone(self) -> str:\n",
    "        return fm.find_phone(self.name)\n",
    "    \n",
    "class FileManager:\n",
    "    \"\"\"\n",
    "        Clase para gestionar las operaciones CRUD de un archivo plano\n",
    "    \"\"\"\n",
    "    def __init__(self, path:str) -> None:\n",
    "        self.path = path\n",
    "        \n",
    "    def open_file(self) -> list:\n",
    "        f = open(self.path)\n",
    "        data = f.readlines()\n",
    "        f.close()\n",
    "        return data\n",
    "    \n",
    "    def create_file(self) -> list:\n",
    "        f = open(self.path, \"w\")\n",
    "        f.close()\n",
    "    \n",
    "    def create_line(self, name: str, phone: str) -> None:             \n",
    "        f = open(self.path, \"a\")\n",
    "        f.write(f\"{name}, {phone}\\n\")\n",
    "        f.close()\n",
    "        \n",
    "    def find_phone(self, name: str) -> str:\n",
    "        f = self.open_file()\n",
    "        phone = \"\"\n",
    "        for line in f:\n",
    "            if name in line.split(\", \")[0]:\n",
    "                phone = line.split(\", \")[1]\n",
    "        return phone\n",
    "    \n",
    "    def edit_number(self, name, newphone):\n",
    "        f = open(self.path, \"r\")\n",
    "        data = f.readlines()\n",
    "        \n",
    "        for i, line in enumerate(data):\n",
    "            if name in line:\n",
    "                data[i] = f\"{name}, {newphone}\\n\"\n",
    "        \n",
    "        file = open(self.path, \"w\")\n",
    "        file.writelines(data)\n",
    "        \n",
    "    def delete_phone(self, name):\n",
    "        f = open(self.path, \"r\")\n",
    "        data = f.readlines()\n",
    "        \n",
    "        for i, line in enumerate(data):\n",
    "            if name in line:\n",
    "                data[i] = f\"{name}, \\n\"\n",
    "        \n",
    "        file = open(self.path, \"w\")\n",
    "        file.writelines(data)\n",
    "    \n",
    "    \n",
    "    def viewAllClients(self) -> list:\n",
    "        return self.open_file()"
   ]
  },
  {
   "cell_type": "code",
   "execution_count": 28,
   "metadata": {},
   "outputs": [
    {
     "name": "stdout",
     "output_type": "stream",
     "text": [
      "+1 (555) 345-6789\n",
      "\n",
      "Menu\n",
      "1. Listar lista de contactos\n",
      "2. Registar contacto\n",
      "3. Actualizar telefono del contacto\n",
      "4. Eliminar numero\n",
      "0. SALIR\n",
      "Ingrese una opcion: 1\n",
      "Jennifer Lopez, +1 (555) 123-4567\n",
      "\n",
      "Tom Hanks, +1 (555) 987-6543\n",
      "\n",
      "Beyoncé Knowles, +1 (555) 876-5432\n",
      "\n",
      "Leonardo DiCaprio, +1 (555) 234-5678\n",
      "\n",
      "Angelina Jolie, +1 (555) 345-6789\n",
      "\n",
      "Menu\n",
      "1. Listar lista de contactos\n",
      "2. Registar contacto\n",
      "3. Actualizar telefono del contacto\n",
      "4. Eliminar numero\n",
      "0. SALIR\n",
      "Ingrese una opcion: 4\n",
      "Ingresa el nombre del contactoAngelina\n",
      "Menu\n",
      "1. Listar lista de contactos\n",
      "2. Registar contacto\n",
      "3. Actualizar telefono del contacto\n",
      "4. Eliminar numero\n",
      "0. SALIR\n",
      "Ingrese una opcion: 1\n",
      "Jennifer Lopez, +1 (555) 123-4567\n",
      "\n",
      "Tom Hanks, +1 (555) 987-6543\n",
      "\n",
      "Beyoncé Knowles, +1 (555) 876-5432\n",
      "\n",
      "Leonardo DiCaprio, +1 (555) 234-5678\n",
      "\n",
      "Angelina, \n",
      "\n",
      "Menu\n",
      "1. Listar lista de contactos\n",
      "2. Registar contacto\n",
      "3. Actualizar telefono del contacto\n",
      "4. Eliminar numero\n",
      "0. SALIR\n",
      "Ingrese una opcion: 3\n",
      "Ingresa el nombre del contactoAngelina\n",
      "Ingresa el nuevo numero del contacto1234\n",
      "Menu\n",
      "1. Listar lista de contactos\n",
      "2. Registar contacto\n",
      "3. Actualizar telefono del contacto\n",
      "4. Eliminar numero\n",
      "0. SALIR\n",
      "Ingrese una opcion: 1\n",
      "Jennifer Lopez, +1 (555) 123-4567\n",
      "\n",
      "Tom Hanks, +1 (555) 987-6543\n",
      "\n",
      "Beyoncé Knowles, +1 (555) 876-5432\n",
      "\n",
      "Leonardo DiCaprio, +1 (555) 234-5678\n",
      "\n",
      "Angelina, 1234\n",
      "\n",
      "Menu\n",
      "1. Listar lista de contactos\n",
      "2. Registar contacto\n",
      "3. Actualizar telefono del contacto\n",
      "4. Eliminar numero\n",
      "0. SALIR\n",
      "Ingrese una opcion: 0\n"
     ]
    }
   ],
   "source": [
    "if __name__ == \"__main__\":\n",
    "    \n",
    "    filePath = \"listin.txt\"\n",
    "    fm = FileManager(filePath)\n",
    "    fm.create_file()\n",
    "        \n",
    "    client1 = Client(name=\"Jennifer Lopez\", phoneNumber=\"+1 (555) 123-4567\", fm=fm)\n",
    "    client1.add_client()\n",
    "\n",
    "    client2 = Client(name=\"Tom Hanks\", phoneNumber=\"+1 (555) 987-6543\", fm=fm)\n",
    "    client2.add_client()\n",
    "    \n",
    "    client3 = Client(name=\"Beyoncé Knowles\", phoneNumber=\"+1 (555) 876-5432\", fm=fm)\n",
    "    client3.add_client()\n",
    "\n",
    "    client4 = Client(name=\"Leonardo DiCaprio\", phoneNumber=\"+1 (555) 234-5678\", fm=fm)\n",
    "    client4.add_client()\n",
    "\n",
    "    client5 = Client(name=\"Angelina Jolie\", phoneNumber=\"+1 (555) 345-6789\", fm=fm)\n",
    "    client5.add_client()\n",
    "    print(client5.find_phone())\n",
    "\n",
    "    #print(fm.open_file())\n",
    "    \n",
    "    #phone = fm.find_phone(\"Jennifer Lopez\")\n",
    "    #print(phone)\n",
    "    \n",
    "    while True:\n",
    "        print(\"Menu\")\n",
    "        print(\"1. Listar lista de contactos\")\n",
    "        print(\"2. Registar contacto\")\n",
    "        print(\"3. Actualizar telefono del contacto\")\n",
    "        print(\"4. Eliminar numero\")\n",
    "        print(\"0. SALIR\")\n",
    "        opc = int(input(\"Ingrese una opcion: \"))\n",
    "        \n",
    "        if opc < 0 and opc > 4:\n",
    "            continue\n",
    "        \n",
    "        if opc == 1:\n",
    "            [print(client) for client in fm.viewAllClients()]\n",
    "        elif opc == 2:\n",
    "            name = input(\"Ingrese el nombre: \")\n",
    "            phone = input(\"Ingrese el numero telefonico: \")\n",
    "            newClient = Client(name, phone, fm)\n",
    "            newClient.add_client()\n",
    "        elif opc == 3:\n",
    "            name = input(\"Ingresa el nombre del contacto\")\n",
    "            phone = input(\"Ingresa el nuevo numero del contacto\")\n",
    "            fm.edit_number(name, phone)\n",
    "        elif opc == 4:\n",
    "            name = input(\"Ingresa el nombre del contacto\")            \n",
    "            fm.delete_phone(name)\n",
    "        if opc == 0:\n",
    "            break"
   ]
  },
  {
   "cell_type": "markdown",
   "metadata": {
    "id": "nglvDpFO9Xrf"
   },
   "source": [
    "# Ejercicio 3"
   ]
  },
  {
   "cell_type": "markdown",
   "metadata": {
    "id": "cHTx2OApVNBk"
   },
   "source": [
    "El fichero cotizacion.csv contiene las cotizaciones de las empresas del IBEX35 con las siguientes columnas: Nombre (nombre de la empresa), Final (precio de la acción al cierre de bolsa), Máximo (precio máximo de la acción durante la jornada), Mínimo (precio mínimo de la acción durante la jornada), Volumen (Volumen al cierre de bolsa), Efectivo (capitalización al cierre en miles de euros).\n",
    "\n",
    "Construir una función reciba el fichero de cotizaciones y devuelva un diccionario con los datos del fichero por columnas.\n",
    "\n",
    "Construir una función que reciba el diccionario devuelto por la función anterior y cree un fichero en formato csv con el mínimo, el máximo y la media de cada columna.\n",
    "\n"
   ]
  },
  {
   "cell_type": "code",
   "execution_count": 1,
   "metadata": {},
   "outputs": [],
   "source": [
    "import csv\n",
    "import json\n",
    "import re"
   ]
  },
  {
   "cell_type": "code",
   "execution_count": 2,
   "metadata": {},
   "outputs": [],
   "source": [
    "def read_csv(path:str) -> list: #funciones.py\n",
    "    \"\"\"\n",
    "        Lectura de un archivo con formato CSV, retorna los valores en forma de lista\n",
    "    \"\"\"\n",
    "    f = open(path)\n",
    "    data = f.readlines()\n",
    "    f.close()\n",
    "    return data\n",
    "    \n",
    "    \n",
    "def preprocessrow(row:str) -> list: \n",
    "    \"\"\"\n",
    "        Preprocesamiento, tratamiento y limpieza de los datos\n",
    "    \"\"\"\n",
    "    preprocess = row.replace(\"\\n\", \"\").split(\";\")\n",
    "    new_data = []\n",
    "    \n",
    "    for line in preprocess:\n",
    "        if re.match(r\"\\d+,\\d+\", line):\n",
    "            new_data.append( float( line.replace(\",\", \".\") ) )\n",
    "        elif re.match(r\"\\d+.\\d+\", line):\n",
    "            new_data.append( int( line.replace(\".\", \"\") ) )\n",
    "        else: \n",
    "            new_data.append( line )\n",
    "    return new_data\n",
    "\n",
    "\n",
    "def mean(values:list) -> float:\n",
    "    \"\"\"\n",
    "        Cálculo de la media de una lista de números\n",
    "    \"\"\"\n",
    "    return round(sum(values) / len(values), 2)\n",
    "\n",
    "\n",
    "def list_to_dict(data_csv:list) -> dict:\n",
    "    \"\"\"\n",
    "        Convierte una lista en un diccionario\n",
    "    \"\"\"\n",
    "    new_json = []\n",
    "    \n",
    "    for row in data_csv:\n",
    "        data = {}\n",
    "        data[\"minimo\"] = row[3]\n",
    "        data[\"maximo\"] = row[2]\n",
    "        data[\"media\"] = mean([ data[\"minimo\"], data[\"maximo\"] ])\n",
    "        new_json.append(data)\n",
    "        \n",
    "    return json.dumps(new_json)\n",
    "\n",
    "\n",
    "def json_to_csv(data_json:list, path:str) -> bool:\n",
    "    \"\"\"\n",
    "        A partir de un arreglo de diccionario, almacena los valores ne un archivo .csv\n",
    "    \"\"\"\n",
    "    f = open(path, mode=\"w\")\n",
    "    writer = csv.writer(f)\n",
    "    writer.writerow([\"Mínimo\", \"Máximo\", \"Media\"])\n",
    "    data_json = json.loads(data_json)\n",
    "    \n",
    "    for line in data_json:\n",
    "        writer.writerow([ line[\"minimo\"], line[\"maximo\"], line[\"media\"] ])\n",
    "    f.close()\n",
    "    return True"
   ]
  },
  {
   "cell_type": "code",
   "execution_count": 3,
   "metadata": {},
   "outputs": [
    {
     "name": "stdout",
     "output_type": "stream",
     "text": [
      "Archivo creado con exito\n"
     ]
    }
   ],
   "source": [
    "if __name__ == \"__main__\":# main.py\n",
    "    path = \"dataset/cotizacion.csv\"\n",
    "    new_path = \"dataset/nueva_cotizacion.csv\"\n",
    "    \n",
    "    data_csv = [ preprocessrow(row) for row in read_csv(path) ]\n",
    "    data_csv.pop(0)\n",
    "    #print(data_csv)    \n",
    "    \n",
    "    data_json = list_to_dict(data_csv)\n",
    "    #print(data_json)\n",
    "    \n",
    "    msj = lambda x: \"Archivo creado con exito\" if x else \"Error al crear archivo\"\n",
    "    print( msj( json_to_csv( data_json, new_path ) ) )"
   ]
  },
  {
   "cell_type": "code",
   "execution_count": null,
   "metadata": {},
   "outputs": [],
   "source": []
  }
 ],
 "metadata": {
  "colab": {
   "provenance": []
  },
  "kernelspec": {
   "display_name": "Python 3 (ipykernel)",
   "language": "python",
   "name": "python3"
  },
  "language_info": {
   "codemirror_mode": {
    "name": "ipython",
    "version": 3
   },
   "file_extension": ".py",
   "mimetype": "text/x-python",
   "name": "python",
   "nbconvert_exporter": "python",
   "pygments_lexer": "ipython3",
   "version": "3.10.6"
  },
  "vscode": {
   "interpreter": {
    "hash": "31f2aee4e71d21fbe5cf8b01ff0e069b9275f58929596ceb00d14d90e3e16cd6"
   }
  }
 },
 "nbformat": 4,
 "nbformat_minor": 1
}
