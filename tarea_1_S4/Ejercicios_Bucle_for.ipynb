{
 "cells": [
  {
   "cell_type": "markdown",
   "metadata": {
    "id": "THf5OffyCEIG"
   },
   "source": [
    "# **S4 Ejercicios: bucle for**"
   ]
  },
  {
   "cell_type": "markdown",
   "metadata": {
    "id": "HToNxUH8GoFr"
   },
   "source": [
    "# Ejercicio 1\n",
    "\n"
   ]
  },
  {
   "cell_type": "markdown",
   "metadata": {
    "id": "G-lJ59z6G0ds"
   },
   "source": [
    "Escribir programa que solicite ingresar un nombre de usuario y una contraseña. Si el nombre es **Jon Snow** y la contraseña es **rey-del-norte**, mostrar en pantalla **Usuario y contraseña correctos. Puede ingresar a lacasadeldragon.com**. Si el nombre o la contraseña no coinciden, mostrar **Acceso denegado**.\n",
    "\n"
   ]
  },
  {
   "cell_type": "code",
   "execution_count": 1,
   "metadata": {
    "id": "cnRtZVRgIwfz"
   },
   "outputs": [
    {
     "name": "stdout",
     "output_type": "stream",
     "text": [
      "Ingrese su usuario: Jon Snow\n",
      "Ingrese su contraseña: rey-del-norte\n",
      "Usuario y contraseña correctos. Puede ingresar a lacasadeldragon.com\n"
     ]
    }
   ],
   "source": [
    "def show_msj(value: bool) -> str:\n",
    "    return \"Usuario y contraseña correctos. Puede ingresar a lacasadeldragon.com\" if value else \"Acceso denegado.\"\n",
    "\n",
    "if __name__ == \"__main__\":\n",
    "    \n",
    "    user = input(\"Ingrese su usuario: \")\n",
    "    password = input(\"Ingrese su contraseña: \")\n",
    "    \n",
    "    print(show_msj(user == \"Jon Snow\" and password == \"rey-del-norte\"))"
   ]
  },
  {
   "cell_type": "markdown",
   "metadata": {
    "id": "WgS6QjY4CHH2"
   },
   "source": [
    "# Ejercicio 2"
   ]
  },
  {
   "cell_type": "markdown",
   "metadata": {
    "id": "J-LAyWpTIw97"
   },
   "source": [
    "Escribir un programa para solicitar al usuario tres números y mostrar en pantalla al menor de los tres."
   ]
  },
  {
   "cell_type": "code",
   "execution_count": 2,
   "metadata": {
    "id": "xxHHIurWJHdj"
   },
   "outputs": [
    {
     "name": "stdout",
     "output_type": "stream",
     "text": [
      "Ingrese tres numeros\n",
      "Ingrese el numero[1]: 2\n",
      "Ingrese el numero[2]: 4\n",
      "Ingrese el numero[3]: 5\n",
      "El valor minimo de la lista es: 2\n"
     ]
    }
   ],
   "source": [
    "if __name__ == \"__main__\":\n",
    "    list_num = []\n",
    "    \n",
    "    print(\"Ingrese tres numeros\")\n",
    "    for value in range(0, 3):\n",
    "        num = int(input(f\"Ingrese el numero[{value + 1}]: \"))\n",
    "        list_num.append(num)\n",
    "        \n",
    "    print(f\"El valor minimo de la lista es: {min(list_num)}\")"
   ]
  },
  {
   "cell_type": "markdown",
   "metadata": {
    "id": "A1-T_ELYCIL1"
   },
   "source": [
    "# Ejercicio 3"
   ]
  },
  {
   "cell_type": "markdown",
   "metadata": {
    "id": "BredljxPJHyD"
   },
   "source": [
    "Escribir programa que permita saber si un año es bisiesto. Para que un año sea bisiesto debe ser divisible por 4 y no debe ser divisible por 100, excepto que también sea divisible por 400."
   ]
  },
  {
   "cell_type": "code",
   "execution_count": 16,
   "metadata": {
    "id": "Q447K_4eJSJL"
   },
   "outputs": [
    {
     "name": "stdout",
     "output_type": "stream",
     "text": [
      "Ingrese un año: 2023\n",
      "No es bisiesto.\n"
     ]
    }
   ],
   "source": [
    "if __name__ == \"__main__\":\n",
    "    \n",
    "    year = int(input(\"Ingrese un año: \"))\n",
    "    \n",
    "    if year % 4 == 0 and (year % 100 != 0 or year % 400 == 0):\n",
    "        print(\"El año que ingresos es bisiesto.\")\n",
    "    else:\n",
    "        print(\"No es bisiesto.\")"
   ]
  },
  {
   "cell_type": "markdown",
   "metadata": {
    "id": "nW9gOVwwCJN2"
   },
   "source": [
    "# Ejercicio 4"
   ]
  },
  {
   "cell_type": "markdown",
   "metadata": {
    "id": "fTyh-JcVJxwc"
   },
   "source": [
    "Escribe un programa que muestre la sumatoria de todos los números entre el 0 y el 100."
   ]
  },
  {
   "cell_type": "code",
   "execution_count": 16,
   "metadata": {
    "id": "_-TEuWLwKIjL"
   },
   "outputs": [
    {
     "name": "stdout",
     "output_type": "stream",
     "text": [
      "La suma de 0 a 100 es: 5050\n"
     ]
    }
   ],
   "source": [
    "if __name__ == \"__main__\":\n",
    "    \n",
    "    suma = 0\n",
    "    for i in range(0, 101):\n",
    "        suma += i\n",
    "    print(f\"La suma de 0 a 100 es: {suma}\")"
   ]
  },
  {
   "cell_type": "markdown",
   "metadata": {
    "id": "48pwGNt5CREN"
   },
   "source": [
    "# Ejercicio 5"
   ]
  },
  {
   "cell_type": "markdown",
   "metadata": {
    "id": "MbhhjCnXKIus"
   },
   "source": [
    "Escribir un programa que, dado un número por el usuario, muestre todos sus divisores positivos"
   ]
  },
  {
   "cell_type": "code",
   "execution_count": 7,
   "metadata": {
    "id": "ipy1z34mKgzL"
   },
   "outputs": [
    {
     "name": "stdout",
     "output_type": "stream",
     "text": [
      "Ingrese un numero positivo: -5\n",
      "Ingrese un numero positivo: 10\n",
      "1\n",
      "2\n",
      "5\n"
     ]
    }
   ],
   "source": [
    "if __name__ == \"__main__\":\n",
    "    \n",
    "    num = -1\n",
    "    \n",
    "    while num < 0:\n",
    "        num = int(input(\"Ingrese un numero positivo: \"))\n",
    "    \n",
    "    for i in range(1, num):\n",
    "        if num % i == 0:\n",
    "            print(i)"
   ]
  },
  {
   "cell_type": "markdown",
   "metadata": {
    "id": "fd5cxsDhCSL1"
   },
   "source": [
    "# Ejercicio 6"
   ]
  },
  {
   "cell_type": "markdown",
   "metadata": {
    "id": "SHdwwbJ5KhAk"
   },
   "source": [
    "Escribir programa que muestre los primeros 10 números de la sucesión de Fibonacci. La sucesión comienza con los números 0 y 1 y, a partir de éstos, cada elemento es la suma de los dos números anteriores en la secuencia: 0, 1, 1, 2, 3, 5, 8, 13, 21, 34, 55…"
   ]
  },
  {
   "cell_type": "code",
   "execution_count": 15,
   "metadata": {
    "id": "NGT4cObwK4sz"
   },
   "outputs": [
    {
     "name": "stdout",
     "output_type": "stream",
     "text": [
      "[0, 1, 1, 2, 3, 5, 8, 13, 21, 34, 55]\n"
     ]
    }
   ],
   "source": [
    "def fibonacci(num: int) -> list:\n",
    "    list_numbers = [0, 1]\n",
    "    \n",
    "    index = 0\n",
    "    index_next = 1\n",
    "    \n",
    "    for i in range(1, num):\n",
    "        list_numbers.append( list_numbers[index] +  list_numbers[index_next])\n",
    "        index += 1\n",
    "        index_next += 1\n",
    "    return list_numbers       \n",
    "    \n",
    "\n",
    "if __name__ == \"__main__\":\n",
    "    listfibo = fibonacci(10)\n",
    "    \n",
    "    print(listfibo)"
   ]
  },
  {
   "cell_type": "markdown",
   "metadata": {
    "id": "CZkqltOGCT--"
   },
   "source": [
    "# Ejercicio 7"
   ]
  },
  {
   "cell_type": "markdown",
   "metadata": {
    "id": "sjgB1oQEK5Tq"
   },
   "source": [
    "Escribir programa que, dado un número entero positivo, calcule y muestre su factorial."
   ]
  },
  {
   "cell_type": "code",
   "execution_count": 11,
   "metadata": {
    "id": "I-Vq7GpLLAYb"
   },
   "outputs": [
    {
     "name": "stdout",
     "output_type": "stream",
     "text": [
      "Ingrese un numero entero positivo para calcular el factorial: -4\n",
      "Ingrese un numero entero positivo para calcular el factorial: 5\n",
      "El factorial de 5 es 120\n"
     ]
    }
   ],
   "source": [
    "def fact(num: int) -> int:\n",
    "    if num == 0:\n",
    "        return 1\n",
    "    else:\n",
    "        return num * fact(num - 1)\n",
    "    \n",
    "if __name__ == \"__main__\":\n",
    "    \n",
    "    num = -1\n",
    "    \n",
    "    while num < 0:\n",
    "        num = int(input(\"Ingrese un numero entero positivo para calcular el factorial: \"))\n",
    "    \n",
    "    print(f\"El factorial de {num} es {fact(num)}\")"
   ]
  },
  {
   "cell_type": "markdown",
   "metadata": {
    "id": "G_sNfsnoCWIl"
   },
   "source": [
    "# Ejercicio 8"
   ]
  },
  {
   "cell_type": "markdown",
   "metadata": {
    "id": "1xOF-DBKL0az"
   },
   "source": [
    "Escribir programa que permita al usuario ingresar el coste de las compras de un cliente (se desconoce la cantidad de datos que cargará, la cual puede cambiar en cada ejecución), cortando el ingreso de datos cuando el usuario ingrese el coste 0. Si ingresa un coste negativo, no se debe procesar y se debe pedir que ingrese un nuevo coste. Al finalizar, informar el total a pagar teniendo que cuenta que, si las ventas superan el monto total de 1000, se le debe aplicar un 10% de descuento.\n",
    "\n",
    "Utilizar Try, Catch por si el usuario introduce una cadena de texto."
   ]
  },
  {
   "cell_type": "code",
   "execution_count": 2,
   "metadata": {
    "id": "J5fKMrRiMUYM"
   },
   "outputs": [
    {
     "name": "stdout",
     "output_type": "stream",
     "text": [
      "Ingrese el costo de la compra (ingrese 0 para finalizar): 0\n",
      "Total a pagar: 0.00\n"
     ]
    }
   ],
   "source": [
    "def cal_total_compra():\n",
    "    total = 0\n",
    "    while True:\n",
    "        try:\n",
    "            costo = float(input(\"Ingrese el costo de la compra (ingrese 0 para finalizar): \"))\n",
    "            if costo == 0:\n",
    "                break\n",
    "            elif costo < 0:\n",
    "                print(\"El costo debe ser un valor positivo.\")\n",
    "                continue\n",
    "            total += costo\n",
    "        except ValueError:\n",
    "            print(\"Error: Ingrese un número válido.\")\n",
    "            continue\n",
    "\n",
    "    if total > 1000:\n",
    "        total -= total * 0.1\n",
    "\n",
    "    print(f\"Total a pagar: {total:.2f}\")\n",
    "\n",
    "if __name__ == \"__main__\":\n",
    "    cal_total_compra()"
   ]
  },
  {
   "cell_type": "code",
   "execution_count": null,
   "metadata": {},
   "outputs": [],
   "source": []
  }
 ],
 "metadata": {
  "colab": {
   "provenance": []
  },
  "kernelspec": {
   "display_name": "Python 3 (ipykernel)",
   "language": "python",
   "name": "python3"
  },
  "language_info": {
   "codemirror_mode": {
    "name": "ipython",
    "version": 3
   },
   "file_extension": ".py",
   "mimetype": "text/x-python",
   "name": "python",
   "nbconvert_exporter": "python",
   "pygments_lexer": "ipython3",
   "version": "3.10.6"
  },
  "vscode": {
   "interpreter": {
    "hash": "31f2aee4e71d21fbe5cf8b01ff0e069b9275f58929596ceb00d14d90e3e16cd6"
   }
  }
 },
 "nbformat": 4,
 "nbformat_minor": 1
}
